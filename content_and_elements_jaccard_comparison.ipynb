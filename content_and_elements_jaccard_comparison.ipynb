{
  "nbformat": 4,
  "nbformat_minor": 0,
  "metadata": {
    "colab": {
      "provenance": []
    },
    "kernelspec": {
      "name": "python3",
      "display_name": "Python 3"
    },
    "language_info": {
      "name": "python"
    }
  },
  "cells": [
    {
      "cell_type": "code",
      "execution_count": 5,
      "metadata": {
        "id": "1tvO-znOIUdn"
      },
      "outputs": [],
      "source": [
        "vec1 = ['large', 'light double bed', 'light pouf', 'white bedside table', 'light round chandelier', 'white painting', '2 wall lamps']\n",
        "vec2 = ['small', 'black bed', 'painting', 'wall lamp', 'green curtains']\n",
        "vec3 = ['small', 'white double bed', 'white dresser', 'white mirror', 'light table lamp', 'small black TV', 'white ceiling fan', 'white blinds']\n",
        "vec4 = ['large', 'light wood-colored double bed', '2 light wood-colored bedside tables', '2 light wood-colored dressers', 'light wood-colored wardrobe', 'white rug', 'black chair', 'chandelier', 'light yellow curtains']\n",
        "vecs = [vec1, vec2, vec3, vec4]"
      ]
    },
    {
      "cell_type": "code",
      "source": [
        "import numpy as np\n",
        "# !pip install spacy\n",
        "# !pip install gensim\n",
        "import spacy\n",
        "import gensim.downloader as api"
      ],
      "metadata": {
        "colab": {
          "base_uri": "https://localhost:8080/"
        },
        "id": "5S478nT0MOKI",
        "outputId": "5470a962-a5e7-483c-9b72-fcb70c5cf15a"
      },
      "execution_count": 11,
      "outputs": [
        {
          "output_type": "stream",
          "name": "stdout",
          "text": [
            "Requirement already satisfied: spacy in /usr/local/lib/python3.10/dist-packages (3.6.1)\n",
            "Requirement already satisfied: spacy-legacy<3.1.0,>=3.0.11 in /usr/local/lib/python3.10/dist-packages (from spacy) (3.0.12)\n",
            "Requirement already satisfied: spacy-loggers<2.0.0,>=1.0.0 in /usr/local/lib/python3.10/dist-packages (from spacy) (1.0.5)\n",
            "Requirement already satisfied: murmurhash<1.1.0,>=0.28.0 in /usr/local/lib/python3.10/dist-packages (from spacy) (1.0.10)\n",
            "Requirement already satisfied: cymem<2.1.0,>=2.0.2 in /usr/local/lib/python3.10/dist-packages (from spacy) (2.0.8)\n",
            "Requirement already satisfied: preshed<3.1.0,>=3.0.2 in /usr/local/lib/python3.10/dist-packages (from spacy) (3.0.9)\n",
            "Requirement already satisfied: thinc<8.2.0,>=8.1.8 in /usr/local/lib/python3.10/dist-packages (from spacy) (8.1.12)\n",
            "Requirement already satisfied: wasabi<1.2.0,>=0.9.1 in /usr/local/lib/python3.10/dist-packages (from spacy) (1.1.2)\n",
            "Requirement already satisfied: srsly<3.0.0,>=2.4.3 in /usr/local/lib/python3.10/dist-packages (from spacy) (2.4.8)\n",
            "Requirement already satisfied: catalogue<2.1.0,>=2.0.6 in /usr/local/lib/python3.10/dist-packages (from spacy) (2.0.10)\n",
            "Requirement already satisfied: typer<0.10.0,>=0.3.0 in /usr/local/lib/python3.10/dist-packages (from spacy) (0.9.0)\n",
            "Requirement already satisfied: pathy>=0.10.0 in /usr/local/lib/python3.10/dist-packages (from spacy) (0.10.3)\n",
            "Requirement already satisfied: smart-open<7.0.0,>=5.2.1 in /usr/local/lib/python3.10/dist-packages (from spacy) (6.4.0)\n",
            "Requirement already satisfied: tqdm<5.0.0,>=4.38.0 in /usr/local/lib/python3.10/dist-packages (from spacy) (4.66.1)\n",
            "Requirement already satisfied: numpy>=1.15.0 in /usr/local/lib/python3.10/dist-packages (from spacy) (1.23.5)\n",
            "Requirement already satisfied: requests<3.0.0,>=2.13.0 in /usr/local/lib/python3.10/dist-packages (from spacy) (2.31.0)\n",
            "Requirement already satisfied: pydantic!=1.8,!=1.8.1,<3.0.0,>=1.7.4 in /usr/local/lib/python3.10/dist-packages (from spacy) (1.10.13)\n",
            "Requirement already satisfied: jinja2 in /usr/local/lib/python3.10/dist-packages (from spacy) (3.1.2)\n",
            "Requirement already satisfied: setuptools in /usr/local/lib/python3.10/dist-packages (from spacy) (67.7.2)\n",
            "Requirement already satisfied: packaging>=20.0 in /usr/local/lib/python3.10/dist-packages (from spacy) (23.2)\n",
            "Requirement already satisfied: langcodes<4.0.0,>=3.2.0 in /usr/local/lib/python3.10/dist-packages (from spacy) (3.3.0)\n",
            "Requirement already satisfied: typing-extensions>=4.2.0 in /usr/local/lib/python3.10/dist-packages (from pydantic!=1.8,!=1.8.1,<3.0.0,>=1.7.4->spacy) (4.5.0)\n",
            "Requirement already satisfied: charset-normalizer<4,>=2 in /usr/local/lib/python3.10/dist-packages (from requests<3.0.0,>=2.13.0->spacy) (3.3.1)\n",
            "Requirement already satisfied: idna<4,>=2.5 in /usr/local/lib/python3.10/dist-packages (from requests<3.0.0,>=2.13.0->spacy) (3.4)\n",
            "Requirement already satisfied: urllib3<3,>=1.21.1 in /usr/local/lib/python3.10/dist-packages (from requests<3.0.0,>=2.13.0->spacy) (2.0.7)\n",
            "Requirement already satisfied: certifi>=2017.4.17 in /usr/local/lib/python3.10/dist-packages (from requests<3.0.0,>=2.13.0->spacy) (2023.7.22)\n",
            "Requirement already satisfied: blis<0.8.0,>=0.7.8 in /usr/local/lib/python3.10/dist-packages (from thinc<8.2.0,>=8.1.8->spacy) (0.7.11)\n",
            "Requirement already satisfied: confection<1.0.0,>=0.0.1 in /usr/local/lib/python3.10/dist-packages (from thinc<8.2.0,>=8.1.8->spacy) (0.1.3)\n",
            "Requirement already satisfied: click<9.0.0,>=7.1.1 in /usr/local/lib/python3.10/dist-packages (from typer<0.10.0,>=0.3.0->spacy) (8.1.7)\n",
            "Requirement already satisfied: MarkupSafe>=2.0 in /usr/local/lib/python3.10/dist-packages (from jinja2->spacy) (2.1.3)\n",
            "Requirement already satisfied: gensim in /usr/local/lib/python3.10/dist-packages (4.3.2)\n",
            "Requirement already satisfied: numpy>=1.18.5 in /usr/local/lib/python3.10/dist-packages (from gensim) (1.23.5)\n",
            "Requirement already satisfied: scipy>=1.7.0 in /usr/local/lib/python3.10/dist-packages (from gensim) (1.11.3)\n",
            "Requirement already satisfied: smart-open>=1.8.1 in /usr/local/lib/python3.10/dist-packages (from gensim) (6.4.0)\n"
          ]
        }
      ]
    },
    {
      "cell_type": "code",
      "source": [
        "word2vec_model = api.load(\"word2vec-google-news-300\")\n",
        "nlp = spacy.load(\"en_core_web_sm\")"
      ],
      "metadata": {
        "colab": {
          "base_uri": "https://localhost:8080/"
        },
        "id": "Z3IFhRKFPOzX",
        "outputId": "cd11091f-2b67-4814-e301-f8d361f64280"
      },
      "execution_count": 12,
      "outputs": [
        {
          "output_type": "stream",
          "name": "stdout",
          "text": [
            "[==================================================] 100.0% 1662.8/1662.8MB downloaded\n"
          ]
        }
      ]
    },
    {
      "cell_type": "code",
      "source": [
        "# Function to calculate cosine similarity between two vectors\n",
        "def calculate_cosine_similarity(vec1, vec2):\n",
        "    return np.dot(vec1, vec2) / (np.linalg.norm(vec1) * np.linalg.norm(vec2))\n",
        "\n",
        "# Function to calculate element similarity using Jaccard similarity\n",
        "def calculate_element_similarity(set1, set2):\n",
        "    return len(set1 & set2) / len(set1 | set2)\n",
        "\n",
        "# Function to preprocess and get vector representations for vectors\n",
        "def get_vector_representation(vector, word2vec_model):\n",
        "    vec = []\n",
        "    for phrase in vector:\n",
        "        tokens = nlp(phrase)\n",
        "        for token in tokens:\n",
        "            word = token.text\n",
        "            if word in word2vec_model:\n",
        "                vec.extend(word2vec_model[word])\n",
        "    return vec"
      ],
      "metadata": {
        "id": "WbtMNoOVPlov"
      },
      "execution_count": 19,
      "outputs": []
    },
    {
      "cell_type": "code",
      "source": [
        "vector1 = get_vector_representation(vec1, word2vec_model)\n",
        "vector2 = get_vector_representation(vec2, word2vec_model)\n",
        "vector3 = get_vector_representation(vec3, word2vec_model)\n",
        "vector4 = get_vector_representation(vec4, word2vec_model)"
      ],
      "metadata": {
        "id": "5SElpPFkPu6r"
      },
      "execution_count": 16,
      "outputs": []
    },
    {
      "cell_type": "code",
      "source": [
        "max_dimension = max(len(vector1), len(vector2), len(vector3), len(vector4))\n",
        "\n",
        "def pad_vector(vector, dimension):\n",
        "    return np.pad(vector, (0, dimension - len(vector)), 'constant')\n",
        "\n",
        "vector1 = pad_vector(vector1, max_dimension)\n",
        "vector2 = pad_vector(vector2, max_dimension)\n",
        "vector3 = pad_vector(vector3, max_dimension)\n",
        "vector4 = pad_vector(vector4, max_dimension)"
      ],
      "metadata": {
        "id": "V7yhh_DiS8MI"
      },
      "execution_count": 21,
      "outputs": []
    },
    {
      "cell_type": "code",
      "source": [
        "element_similarities = []\n",
        "element_similarities.append(calculate_element_similarity(set(vec1), set(vec2)))\n",
        "element_similarities.append(calculate_element_similarity(set(vec1), set(vec3)))\n",
        "element_similarities.append(calculate_element_similarity(set(vec1), set(vec4)))\n",
        "element_similarities.append(calculate_element_similarity(set(vec2), set(vec3)))\n",
        "element_similarities.append(calculate_element_similarity(set(vec2), set(vec4)))\n",
        "element_similarities.append(calculate_element_similarity(set(vec3), set(vec4)))"
      ],
      "metadata": {
        "id": "qj61_lUhPw-G"
      },
      "execution_count": 17,
      "outputs": []
    },
    {
      "cell_type": "code",
      "source": [
        "vector_similarities = []\n",
        "vector_similarities.append(calculate_cosine_similarity(vector1, vector2))\n",
        "vector_similarities.append(calculate_cosine_similarity(vector1, vector3))\n",
        "vector_similarities.append(calculate_cosine_similarity(vector1, vector4))\n",
        "vector_similarities.append(calculate_cosine_similarity(vector2, vector3))\n",
        "vector_similarities.append(calculate_cosine_similarity(vector2, vector4))\n",
        "vector_similarities.append(calculate_cosine_similarity(vector3, vector4))"
      ],
      "metadata": {
        "id": "X7780Jl2Pzr0"
      },
      "execution_count": 22,
      "outputs": []
    },
    {
      "cell_type": "code",
      "source": [
        "overall_similarities = [0.5 * vector_sim + 0.5 * element_sim for vector_sim, element_sim in zip(vector_similarities, element_similarities)]"
      ],
      "metadata": {
        "id": "zI4-fMuCP3Ng"
      },
      "execution_count": 23,
      "outputs": []
    },
    {
      "cell_type": "code",
      "source": [
        "for i, similarity in enumerate(overall_similarities):\n",
        "    print(f\"Similarity between vec{1+i//3} and vec{2+i%3}: {similarity:.2f}\")"
      ],
      "metadata": {
        "colab": {
          "base_uri": "https://localhost:8080/"
        },
        "id": "7iy3Vu1tP_4J",
        "outputId": "0f21d305-9004-49b0-a2e8-1329fb2487b2"
      },
      "execution_count": 24,
      "outputs": [
        {
          "output_type": "stream",
          "name": "stdout",
          "text": [
            "Similarity between vec1 and vec2: 0.07\n",
            "Similarity between vec1 and vec3: 0.16\n",
            "Similarity between vec1 and vec4: 0.12\n",
            "Similarity between vec2 and vec2: 0.15\n",
            "Similarity between vec2 and vec3: 0.06\n",
            "Similarity between vec2 and vec4: 0.08\n"
          ]
        }
      ]
    }
  ]
}