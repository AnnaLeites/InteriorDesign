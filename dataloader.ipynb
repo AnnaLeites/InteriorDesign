{
 "cells": [
  {
   "cell_type": "code",
   "execution_count": 6,
   "id": "d2865441",
   "metadata": {},
   "outputs": [],
   "source": [
    "#read data\n",
    "with open('labelled_bedrooms_data_sample.txt.txt') as f:\n",
    "    bedrooms_lines = f.readlines()\n",
    "with open('labelled_living_rooms_data_sample.txt.txt') as f:\n",
    "    living_rooms_lines = f.readlines()"
   ]
  },
  {
   "cell_type": "code",
   "execution_count": 29,
   "id": "c3617192",
   "metadata": {},
   "outputs": [
    {
     "data": {
      "text/plain": [
       "['large',\n",
       " 'double wood bed',\n",
       " 'two windows',\n",
       " 'dressing table',\n",
       " 'picture',\n",
       " 'two lamps',\n",
       " 'bedroom chair;\\n']"
      ]
     },
     "execution_count": 29,
     "metadata": {},
     "output_type": "execute_result"
    }
   ],
   "source": [
    "bedrooms_lines[0].split(\"; \")[2:]"
   ]
  },
  {
   "cell_type": "code",
   "execution_count": 30,
   "id": "fecb92c9",
   "metadata": {},
   "outputs": [],
   "source": [
    "bedroom_files = []\n",
    "for bedroom_line in bedrooms_lines:\n",
    "    bedroom_files.append(bedroom_line.split(\"; \")[0])\n",
    "bedrooms = []\n",
    "for bedroom_line in bedrooms_lines:\n",
    "    bedrooms.append(bedroom_line.split(\"; \")[2:])"
   ]
  },
  {
   "cell_type": "code",
   "execution_count": 24,
   "id": "d7c6ccb1",
   "metadata": {},
   "outputs": [
    {
     "data": {
      "text/plain": [
       "['bed_1.jpg', 'bed_2.jpg', 'bed_3.jpg']"
      ]
     },
     "execution_count": 24,
     "metadata": {},
     "output_type": "execute_result"
    }
   ],
   "source": [
    "#example of output\n",
    "bedroom_files[0:3]"
   ]
  },
  {
   "cell_type": "code",
   "execution_count": 31,
   "id": "3ef5d505",
   "metadata": {},
   "outputs": [
    {
     "data": {
      "text/plain": [
       "[['large',\n",
       "  'double wood bed',\n",
       "  'two windows',\n",
       "  'dressing table',\n",
       "  'picture',\n",
       "  'two lamps',\n",
       "  'bedroom chair;\\n'],\n",
       " ['small', 'double bed', 'bookshelves', 'closet', 'two windows', '\\n'],\n",
       " ['large',\n",
       "  'large closet',\n",
       "  'computer table',\n",
       "  'computer chair',\n",
       "  'double bed',\n",
       "  'large window',\n",
       "  'ceiling fan;\\n']]"
      ]
     },
     "execution_count": 31,
     "metadata": {},
     "output_type": "execute_result"
    }
   ],
   "source": [
    "#example of output\n",
    "bedrooms[0:3]"
   ]
  },
  {
   "cell_type": "code",
   "execution_count": null,
   "id": "29689381",
   "metadata": {},
   "outputs": [],
   "source": []
  }
 ],
 "metadata": {
  "kernelspec": {
   "display_name": "Python 3",
   "language": "python",
   "name": "python3"
  },
  "language_info": {
   "codemirror_mode": {
    "name": "ipython",
    "version": 3
   },
   "file_extension": ".py",
   "mimetype": "text/x-python",
   "name": "python",
   "nbconvert_exporter": "python",
   "pygments_lexer": "ipython3",
   "version": "3.8.8"
  }
 },
 "nbformat": 4,
 "nbformat_minor": 5
}
