{
 "cells": [
  {
   "cell_type": "code",
   "execution_count": 15,
   "id": "64c98839",
   "metadata": {},
   "outputs": [],
   "source": [
    "from gensim.models import Word2Vec\n",
    "import numpy as np\n",
    "import spacy\n",
    "import gensim.downloader as api"
   ]
  },
  {
   "cell_type": "code",
   "execution_count": null,
   "id": "03f0e65b",
   "metadata": {},
   "outputs": [],
   "source": []
  },
  {
   "cell_type": "code",
   "execution_count": 8,
   "id": "ebcd54bb",
   "metadata": {},
   "outputs": [],
   "source": [
    "#read data\n",
    "with open('labelled_bedrooms_data_sample.txt.txt') as f:\n",
    "    bedrooms_lines = f.readlines()\n",
    "with open('labelled_living_rooms_data_sample.txt.txt') as f:\n",
    "    living_rooms_lines = f.readlines()"
   ]
  },
  {
   "cell_type": "code",
   "execution_count": 14,
   "id": "fec32958",
   "metadata": {},
   "outputs": [],
   "source": [
    "#adding all bedrooms and living rooms to list of vectors and to list of filenames\n",
    "rooms_files = []\n",
    "rooms = []\n",
    "for bedroom_line in bedrooms_lines:\n",
    "    rooms_files.append(bedroom_line.split(\"; \")[0])\n",
    "    rooms.append(bedroom_line.split(\"; \")[1:])\n",
    "    \n",
    "for living_room_line in living_rooms_lines:\n",
    "    rooms_files.append(living_room_line.split(\"; \")[0])\n",
    "    rooms.append(living_room_line.split(\"; \")[1:])"
   ]
  },
  {
   "cell_type": "code",
   "execution_count": 11,
   "id": "eeef8cdb",
   "metadata": {},
   "outputs": [
    {
     "data": {
      "text/plain": [
       "['bed_1.jpg', 'bed_2.jpg', 'bed_3.jpg', 'bed_8.jpg', 'bed_9.jpg']"
      ]
     },
     "execution_count": 11,
     "metadata": {},
     "output_type": "execute_result"
    }
   ],
   "source": [
    "rooms_files[:5]"
   ]
  },
  {
   "cell_type": "code",
   "execution_count": 13,
   "id": "b4404dd3",
   "metadata": {},
   "outputs": [
    {
     "data": {
      "text/plain": [
       "[['bedroom',\n",
       "  'large',\n",
       "  'double wood bed',\n",
       "  'two windows',\n",
       "  'dressing table',\n",
       "  'picture',\n",
       "  'two lamps',\n",
       "  'bedroom chair;\\n'],\n",
       " ['bedroom',\n",
       "  'small',\n",
       "  'double bed',\n",
       "  'bookshelves',\n",
       "  'closet',\n",
       "  'two windows',\n",
       "  '\\n'],\n",
       " ['bedroom',\n",
       "  'large',\n",
       "  'large closet',\n",
       "  'computer table',\n",
       "  'computer chair',\n",
       "  'double bed',\n",
       "  'large window',\n",
       "  'ceiling fan;\\n']]"
      ]
     },
     "execution_count": 13,
     "metadata": {},
     "output_type": "execute_result"
    }
   ],
   "source": [
    "rooms[:3]"
   ]
  },
  {
   "cell_type": "code",
   "execution_count": null,
   "id": "4be08cc7",
   "metadata": {},
   "outputs": [
    {
     "name": "stdout",
     "output_type": "stream",
     "text": [
      "[==================================----------------] 68.6% 1140.7/1662.8MB downloaded"
     ]
    }
   ],
   "source": [
    "#1.6 gb\n",
    "word2vec_model = api.load(\"word2vec-google-news-300\")\n",
    "nlp = spacy.load(\"en_core_web_sm\")\n"
   ]
  },
  {
   "cell_type": "code",
   "execution_count": null,
   "id": "723a8d84",
   "metadata": {},
   "outputs": [],
   "source": [
    "# Function to calculate cosine similarity between two vectors\n",
    "def calculate_cosine_similarity(vec1, vec2):\n",
    "    return np.dot(vec1, vec2) / (np.linalg.norm(vec1) * np.linalg.norm(vec2))"
   ]
  },
  {
   "cell_type": "code",
   "execution_count": null,
   "id": "1ff11005",
   "metadata": {},
   "outputs": [],
   "source": [
    "# Function to preprocess and get vector representations for vectors\n",
    "def get_vector_representation(vector, word2vec_model):\n",
    "    vec = []\n",
    "    for phrase in vector:\n",
    "        tokens = nlp(phrase)\n",
    "        for token in tokens:\n",
    "            word = token.text\n",
    "            if word in word2vec_model:\n",
    "                vec.extend(word2vec_model[word])\n",
    "    return vec"
   ]
  },
  {
   "cell_type": "code",
   "execution_count": null,
   "id": "0c5c68de",
   "metadata": {},
   "outputs": [],
   "source": [
    "get_vector_representation(rooms[2], word2vec_model)"
   ]
  },
  {
   "cell_type": "code",
   "execution_count": null,
   "id": "0520ff3b",
   "metadata": {},
   "outputs": [],
   "source": [
    "input_query = \"bedroom with white closet and table\"\n"
   ]
  },
  {
   "cell_type": "code",
   "execution_count": null,
   "id": "c84dbc33",
   "metadata": {},
   "outputs": [],
   "source": [
    "input_vector = get_vector_representation(input_query, word2vec_model)"
   ]
  },
  {
   "cell_type": "code",
   "execution_count": null,
   "id": "5d426bf6",
   "metadata": {},
   "outputs": [],
   "source": [
    "r_rim = []#вектор сходства\n",
    "for i in range(0:10):\n",
    "    r = get_vector_representation(rooms[i], word2vec_model)\n",
    "    r_sim = calculate_cosine_similarity(input_vector, r)\n",
    "most_similar_room = np.argmax(r_rim)"
   ]
  },
  {
   "cell_type": "code",
   "execution_count": null,
   "id": "b4e572b1",
   "metadata": {},
   "outputs": [],
   "source": [
    "print(rooms_files[most_similar_room])# файл с картинкой наиболее подходящей комнаты"
   ]
  }
 ],
 "metadata": {
  "kernelspec": {
   "display_name": "Python 3",
   "language": "python",
   "name": "python3"
  },
  "language_info": {
   "codemirror_mode": {
    "name": "ipython",
    "version": 3
   },
   "file_extension": ".py",
   "mimetype": "text/x-python",
   "name": "python",
   "nbconvert_exporter": "python",
   "pygments_lexer": "ipython3",
   "version": "3.8.8"
  }
 },
 "nbformat": 4,
 "nbformat_minor": 5
}
