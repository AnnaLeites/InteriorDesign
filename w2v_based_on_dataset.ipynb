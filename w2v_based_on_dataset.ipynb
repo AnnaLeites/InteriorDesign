{
 "cells": [
  {
   "cell_type": "code",
   "execution_count": 37,
   "id": "e6ab77a9",
   "metadata": {},
   "outputs": [],
   "source": [
    "from gensim.models import Word2Vec\n",
    "import multiprocessing\n",
    "import numpy as np"
   ]
  },
  {
   "cell_type": "code",
   "execution_count": null,
   "id": "2f742762",
   "metadata": {},
   "outputs": [],
   "source": []
  },
  {
   "cell_type": "code",
   "execution_count": 2,
   "id": "f890d17a",
   "metadata": {},
   "outputs": [],
   "source": [
    "#read data\n",
    "with open('labelled_bedrooms_data_sample.txt.txt') as f:\n",
    "    bedrooms_lines = f.readlines()\n",
    "with open('labelled_living_rooms_data_sample.txt.txt') as f:\n",
    "    living_rooms_lines = f.readlines()"
   ]
  },
  {
   "cell_type": "code",
   "execution_count": 3,
   "id": "c3beb86a",
   "metadata": {},
   "outputs": [],
   "source": [
    "#adding all bedrooms and living rooms to list of vectors and to list of filenames\n",
    "rooms_files = []\n",
    "rooms = []\n",
    "for bedroom_line in bedrooms_lines:\n",
    "    rooms_files.append(bedroom_line.split(\"; \")[0])\n",
    "    rooms.append(bedroom_line.split(\"; \")[1:])\n",
    "    \n",
    "for living_room_line in living_rooms_lines:\n",
    "    rooms_files.append(living_room_line.split(\"; \")[0])\n",
    "    rooms.append(living_room_line.split(\"; \")[1:])"
   ]
  },
  {
   "cell_type": "code",
   "execution_count": 8,
   "id": "f6834a33",
   "metadata": {},
   "outputs": [],
   "source": [
    "#word to vec CBOW\n",
    "cores = multiprocessing.cpu_count() \n",
    "w2v_model = Word2Vec(min_count=2,\n",
    "                     window=2,\n",
    "                     sg = 0,\n",
    "                     sample=6e-5, \n",
    "                     alpha=0.03, \n",
    "                     min_alpha=0.0007, \n",
    "                     negative=20,\n",
    "                     workers=cores-1)"
   ]
  },
  {
   "cell_type": "code",
   "execution_count": 53,
   "id": "dee6ab01",
   "metadata": {
    "scrolled": false
   },
   "outputs": [
    {
     "data": {
      "text/plain": [
       "[['bedroom',\n",
       "  'large',\n",
       "  'double wood bed',\n",
       "  'two windows',\n",
       "  'dressing table',\n",
       "  'picture',\n",
       "  'two lamps',\n",
       "  'bedroom chair;\\n'],\n",
       " ['bedroom',\n",
       "  'small',\n",
       "  'double bed',\n",
       "  'bookshelves',\n",
       "  'closet',\n",
       "  'two windows',\n",
       "  '\\n'],\n",
       " ['bedroom',\n",
       "  'large',\n",
       "  'large closet',\n",
       "  'computer table',\n",
       "  'computer chair',\n",
       "  'double bed',\n",
       "  'large window',\n",
       "  'ceiling fan;\\n']]"
      ]
     },
     "execution_count": 53,
     "metadata": {},
     "output_type": "execute_result"
    }
   ],
   "source": [
    "rooms[0:3]"
   ]
  },
  {
   "cell_type": "code",
   "execution_count": 10,
   "id": "9e864800",
   "metadata": {},
   "outputs": [],
   "source": [
    "w2v_model.build_vocab(rooms)"
   ]
  },
  {
   "cell_type": "code",
   "execution_count": 11,
   "id": "76acb68c",
   "metadata": {},
   "outputs": [],
   "source": [
    "# Function to calculate cosine similarity between two vectors\n",
    "def calculate_cosine_similarity(vec1, vec2):\n",
    "    return np.dot(vec1, vec2) / (np.linalg.norm(vec1) * np.linalg.norm(vec2))"
   ]
  },
  {
   "cell_type": "code",
   "execution_count": 57,
   "id": "7d500725",
   "metadata": {},
   "outputs": [],
   "source": [
    "# Function to preprocess and get vector representations for vectors\n",
    "def get_vector_representation(sentence, word2vec_model):\n",
    "    vectors = []\n",
    "    for word in sentence:\n",
    "        if word in w2v_model.wv.index_to_key:\n",
    "            vector = w2v_model.wv[word]\n",
    "            vectors.append(vector)\n",
    "    return vectors"
   ]
  },
  {
   "cell_type": "code",
   "execution_count": 58,
   "id": "8ee9ed00",
   "metadata": {},
   "outputs": [
    {
     "data": {
      "text/plain": [
       "[array([-5.3622725e-04,  2.3643136e-04,  5.1033497e-03,  9.0092728e-03,\n",
       "        -9.3029495e-03, -7.1168090e-03,  6.4588725e-03,  8.9729885e-03,\n",
       "        -5.0154282e-03, -3.7633716e-03,  7.3805046e-03, -1.5334714e-03,\n",
       "        -4.5366134e-03,  6.5540518e-03, -4.8601604e-03, -1.8160177e-03,\n",
       "         2.8765798e-03,  9.9187379e-04, -8.2852151e-03, -9.4488179e-03,\n",
       "         7.3117660e-03,  5.0702621e-03,  6.7576934e-03,  7.6286553e-04,\n",
       "         6.3508903e-03, -3.4053659e-03, -9.4640139e-04,  5.7685734e-03,\n",
       "        -7.5216377e-03, -3.9361035e-03, -7.5115822e-03, -9.3004224e-04,\n",
       "         9.5381187e-03, -7.3191668e-03, -2.3337686e-03, -1.9377411e-03,\n",
       "         8.0774371e-03, -5.9308959e-03,  4.5162440e-05, -4.7537340e-03,\n",
       "        -9.6035507e-03,  5.0072931e-03, -8.7595852e-03, -4.3918253e-03,\n",
       "        -3.5099984e-05, -2.9618145e-04, -7.6612402e-03,  9.6147433e-03,\n",
       "         4.9820580e-03,  9.2331432e-03, -8.1579173e-03,  4.4957981e-03,\n",
       "        -4.1370760e-03,  8.2453608e-04,  8.4986202e-03, -4.4621765e-03,\n",
       "         4.5175003e-03, -6.7869602e-03, -3.5484887e-03,  9.3985079e-03,\n",
       "        -1.5776526e-03,  3.2137157e-04, -4.1406299e-03, -7.6826881e-03,\n",
       "        -1.5080082e-03,  2.4697948e-03, -8.8802696e-04,  5.5336617e-03,\n",
       "        -2.7429771e-03,  2.2600652e-03,  5.4557943e-03,  8.3459532e-03,\n",
       "        -1.4537406e-03, -9.2081428e-03,  4.3705525e-03,  5.7178497e-04,\n",
       "         7.4419081e-03, -8.1328274e-04, -2.6384138e-03, -8.7530091e-03,\n",
       "        -8.5655687e-04,  2.8265631e-03,  5.4014288e-03,  7.0526563e-03,\n",
       "        -5.7031214e-03,  1.8588197e-03,  6.0888636e-03, -4.7980510e-03,\n",
       "        -3.1072604e-03,  6.7976294e-03,  1.6314756e-03,  1.8991709e-04,\n",
       "         3.4736372e-03,  2.1777749e-04,  9.6188262e-03,  5.0606038e-03,\n",
       "        -8.9173904e-03, -7.0415605e-03,  9.0145587e-04,  6.3925339e-03],\n",
       "       dtype=float32),\n",
       " array([-8.2426779e-03,  9.2993546e-03, -1.9766092e-04, -1.9672764e-03,\n",
       "         4.6036304e-03, -4.0953159e-03,  2.7431143e-03,  6.9399667e-03,\n",
       "         6.0654259e-03, -7.5107943e-03,  9.3823504e-03,  4.6718083e-03,\n",
       "         3.9661205e-03, -6.2435055e-03,  8.4599797e-03, -2.1501649e-03,\n",
       "         8.8251876e-03, -5.3620026e-03, -8.1294188e-03,  6.8245591e-03,\n",
       "         1.6711927e-03, -2.1985089e-03,  9.5136007e-03,  9.4938548e-03,\n",
       "        -9.7740470e-03,  2.5052286e-03,  6.1566923e-03,  3.8724565e-03,\n",
       "         2.0227872e-03,  4.3050171e-04,  6.7363144e-04, -3.8206363e-03,\n",
       "        -7.1402504e-03, -2.0888723e-03,  3.9238976e-03,  8.8186832e-03,\n",
       "         9.2591504e-03, -5.9759365e-03, -9.4026709e-03,  9.7643770e-03,\n",
       "         3.4297847e-03,  5.1661171e-03,  6.2823449e-03, -2.8042626e-03,\n",
       "         7.3227035e-03,  2.8302716e-03,  2.8710044e-03, -2.3803699e-03,\n",
       "        -3.1282497e-03, -2.3701417e-03,  4.2764368e-03,  7.6057913e-05,\n",
       "        -9.5842788e-03, -9.6655441e-03, -6.1481940e-03, -1.2856961e-04,\n",
       "         1.9974159e-03,  9.4319675e-03,  5.5843508e-03, -4.2906962e-03,\n",
       "         2.7831673e-04,  4.9643586e-03,  7.6983096e-03, -1.1442233e-03,\n",
       "         4.3234206e-03, -5.8143795e-03, -8.0419064e-04,  8.1000505e-03,\n",
       "        -2.3600650e-03, -9.6634552e-03,  5.7792603e-03, -3.9298222e-03,\n",
       "        -1.2228728e-03,  9.9805174e-03, -2.2563506e-03, -4.7570644e-03,\n",
       "        -5.3293873e-03,  6.9808899e-03, -5.7088719e-03,  2.1136629e-03,\n",
       "        -5.2556600e-03,  6.1207139e-03,  4.3573068e-03,  2.6063549e-03,\n",
       "        -1.4910829e-03, -2.7460635e-03,  8.9929365e-03,  5.2157748e-03,\n",
       "        -2.1625196e-03, -9.4703101e-03, -7.4260519e-03, -1.0637414e-03,\n",
       "        -7.9494715e-04, -2.5629092e-03,  9.6827205e-03, -4.5852066e-04,\n",
       "         5.8737611e-03, -7.4475873e-03, -2.5060738e-03, -5.5498634e-03],\n",
       "       dtype=float32),\n",
       " array([-0.00777639, -0.00675763, -0.00315397,  0.0066152 , -0.00083423,\n",
       "         0.00888416, -0.00229178, -0.00530431,  0.00391531,  0.00221647,\n",
       "        -0.00028038, -0.00245288, -0.00600254,  0.00403767, -0.00761157,\n",
       "        -0.00890654, -0.00916153,  0.00838807,  0.00400058,  0.00709217,\n",
       "         0.0098901 , -0.00722584,  0.00402851,  0.00282114,  0.00615478,\n",
       "        -0.00338795,  0.00933061, -0.00579942,  0.00703221,  0.00694974,\n",
       "        -0.00039196,  0.00505998,  0.00664465,  0.00154354,  0.00736852,\n",
       "         0.00240867, -0.00152077,  0.0073944 ,  0.00468735, -0.00317224,\n",
       "         0.00164611, -0.00013999,  0.00496326, -0.00541243, -0.00418461,\n",
       "        -0.00093795,  0.00382188, -0.00658155,  0.00784563, -0.00308784,\n",
       "         0.00573998,  0.00286404,  0.00682248, -0.00446627, -0.00320205,\n",
       "         0.00305724, -0.00277482,  0.00594252, -0.00595423,  0.00259165,\n",
       "        -0.00072277, -0.00061427,  0.00253851, -0.0021853 , -0.00425752,\n",
       "        -0.0085526 ,  0.00248828,  0.00532471, -0.00586721,  0.00910911,\n",
       "         0.00403643, -0.00517543, -0.00131323,  0.00392637, -0.00700541,\n",
       "         0.00205533,  0.00550657,  0.00625484,  0.00542659,  0.00366003,\n",
       "        -0.00275209, -0.0060785 ,  0.00815992, -0.00730165, -0.00162007,\n",
       "        -0.00326376,  0.00648871, -0.00627743,  0.00339551,  0.00204752,\n",
       "        -0.00407902, -0.00824269, -0.00803773,  0.00350565, -0.00956128,\n",
       "         0.0057068 , -0.00291243, -0.00917306, -0.00513612,  0.00774427],\n",
       "       dtype=float32)]"
      ]
     },
     "execution_count": 58,
     "metadata": {},
     "output_type": "execute_result"
    }
   ],
   "source": [
    "get_vector_representation(rooms[2], w2v_model)"
   ]
  },
  {
   "cell_type": "code",
   "execution_count": 25,
   "id": "15715f3a",
   "metadata": {},
   "outputs": [
    {
     "data": {
      "text/plain": [
       "['bedroom',\n",
       " 'large',\n",
       " 'double wood bed',\n",
       " 'two windows',\n",
       " 'dressing table',\n",
       " 'picture',\n",
       " 'two lamps',\n",
       " 'bedroom chair;\\n']"
      ]
     },
     "execution_count": 25,
     "metadata": {},
     "output_type": "execute_result"
    }
   ],
   "source": [
    "rooms[0]"
   ]
  },
  {
   "cell_type": "code",
   "execution_count": 48,
   "id": "bf6251d0",
   "metadata": {},
   "outputs": [],
   "source": [
    "vector = rooms[0]"
   ]
  },
  {
   "cell_type": "code",
   "execution_count": 49,
   "id": "ead95b59",
   "metadata": {},
   "outputs": [],
   "source": [
    "vectors = []\n",
    "for word in vector:\n",
    "    if word in w2v_model.wv.index_to_key:\n",
    "        vector = w2v_model.wv[word]\n",
    "        vectors.append(vector)"
   ]
  },
  {
   "cell_type": "code",
   "execution_count": 51,
   "id": "66b913a7",
   "metadata": {},
   "outputs": [],
   "source": [
    "sentence = np.mean(vectors, axis=0)"
   ]
  },
  {
   "cell_type": "code",
   "execution_count": 52,
   "id": "8d556357",
   "metadata": {},
   "outputs": [
    {
     "data": {
      "text/plain": [
       "array([-4.28963394e-04, -2.40875219e-04, -4.03252058e-03,  1.57336111e-03,\n",
       "       -2.38691387e-03, -5.64469676e-03,  2.15773983e-03,  5.74567495e-03,\n",
       "       -4.13977820e-03, -3.61264800e-03,  6.67458773e-03, -1.05104665e-03,\n",
       "       -1.46814401e-03,  2.05627480e-03,  6.36462413e-04, -3.21242656e-03,\n",
       "        2.62784841e-03, -1.69404014e-03, -4.38626576e-03, -9.79587421e-05,\n",
       "        2.51495396e-03, -9.61318729e-04,  1.03361730e-03,  1.73047115e-03,\n",
       "       -2.97777646e-04, -3.12784640e-03,  1.84109621e-03, -1.11135072e-03,\n",
       "       -2.24033371e-03,  1.19218847e-03, -5.95716410e-04, -1.39256939e-04,\n",
       "        2.62228935e-03, -5.31509891e-03, -8.86938709e-04,  1.86958903e-04,\n",
       "        2.49001372e-04, -9.84611223e-04, -1.52720418e-03, -1.04913244e-03,\n",
       "        1.08984171e-03,  7.67518941e-04,  6.32118725e-04, -1.23222638e-03,\n",
       "       -1.16421445e-03,  1.63292547e-03,  7.18659372e-04,  3.14846082e-04,\n",
       "        8.06735363e-04,  3.27006099e-03, -2.43714126e-03, -7.69503880e-04,\n",
       "       -2.08322424e-04, -3.87019431e-03,  1.78206561e-03, -1.71745126e-03,\n",
       "        1.23595353e-03,  6.39414240e-04,  4.74609714e-03,  3.71509371e-03,\n",
       "        3.97343701e-03, -8.25964555e-04, -7.26145983e-04, -5.41122258e-03,\n",
       "       -5.26513089e-04, -1.00132404e-03,  5.04700758e-04,  3.89536144e-03,\n",
       "       -2.83752312e-03, -2.13168561e-03, -3.31619813e-04, -2.47863075e-03,\n",
       "       -1.39832555e-03,  7.79983238e-04,  1.25299650e-03, -3.91496299e-03,\n",
       "       -2.34213239e-03,  1.95126166e-03, -3.23047931e-03, -3.87427572e-04,\n",
       "       -6.70869340e-05,  4.45134472e-03,  2.80796870e-04,  1.72640814e-03,\n",
       "       -3.54204816e-03, -2.49605393e-03,  2.55968189e-03, -1.60784204e-03,\n",
       "        1.90062763e-03,  3.28352617e-04, -2.82768917e-04, -3.28570977e-03,\n",
       "       -1.01391415e-04,  2.93475622e-03,  9.48141504e-04,  1.62194786e-03,\n",
       "        5.98937680e-04, -3.08635784e-03, -8.64000991e-04, -3.60263046e-04],\n",
       "      dtype=float32)"
      ]
     },
     "execution_count": 52,
     "metadata": {},
     "output_type": "execute_result"
    }
   ],
   "source": [
    "sentence"
   ]
  },
  {
   "cell_type": "code",
   "execution_count": null,
   "id": "79b3d163",
   "metadata": {},
   "outputs": [],
   "source": []
  }
 ],
 "metadata": {
  "kernelspec": {
   "display_name": "Python 3",
   "language": "python",
   "name": "python3"
  },
  "language_info": {
   "codemirror_mode": {
    "name": "ipython",
    "version": 3
   },
   "file_extension": ".py",
   "mimetype": "text/x-python",
   "name": "python",
   "nbconvert_exporter": "python",
   "pygments_lexer": "ipython3",
   "version": "3.8.8"
  }
 },
 "nbformat": 4,
 "nbformat_minor": 5
}
