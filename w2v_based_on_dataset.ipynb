{
 "cells": [
  {
   "cell_type": "code",
   "execution_count": 118,
   "id": "19116e8e",
   "metadata": {},
   "outputs": [],
   "source": [
    "from gensim.models import Word2Vec\n",
    "import multiprocessing\n",
    "import numpy as np\n",
    "from nltk.corpus import stopwords\n",
    "from nltk.tokenize import word_tokenize\n",
    "import string"
   ]
  },
  {
   "cell_type": "code",
   "execution_count": 119,
   "id": "c95d6700",
   "metadata": {},
   "outputs": [],
   "source": [
    "def load_data():\n",
    "    #read data\n",
    "    with open('labelled_bedrooms_data_sample.txt.txt') as f:\n",
    "        bedrooms_lines = f.readlines()\n",
    "    with open('labelled_living_rooms_data_sample.txt.txt') as f:\n",
    "        living_rooms_lines = f.readlines()\n",
    "        \n",
    "    #adding all bedrooms and living rooms to list of vectors and to list of filenames\n",
    "    rooms_files = []\n",
    "    rooms = []\n",
    "    for bedroom_line in bedrooms_lines:\n",
    "        rooms_files.append(bedroom_line.split(\"; \")[0])\n",
    "        rooms.append(bedroom_line.split(\"; \")[1:])\n",
    "\n",
    "    for living_room_line in living_rooms_lines:\n",
    "        rooms_files.append(living_room_line.split(\"; \")[0])\n",
    "        rooms.append(living_room_line.split(\"; \")[1:])\n",
    "        \n",
    "    return rooms_files, rooms"
   ]
  },
  {
   "cell_type": "code",
   "execution_count": 130,
   "id": "16d64640",
   "metadata": {},
   "outputs": [],
   "source": [
    "def get_embedding(sentence,w2v_model):\n",
    "    vectors = []\n",
    "    for word in sentence:\n",
    "        if word in w2v_model.wv.index_to_key:\n",
    "            vector = w2v_model.wv[word]\n",
    "            vectors.append(vector)\n",
    "    #embedding of the whole sentence is average vector        \n",
    "    sentence_embedding = np.mean(vectors, axis=0)\n",
    "    return sentence_embedding"
   ]
  },
  {
   "cell_type": "code",
   "execution_count": 121,
   "id": "5885f41b",
   "metadata": {},
   "outputs": [],
   "source": [
    "def get_w2v_model(rooms):\n",
    "    #word to vec CBOW\n",
    "    cores = multiprocessing.cpu_count() \n",
    "    w2v_model = Word2Vec(min_count=2,\n",
    "                         window=2,\n",
    "                         sg = 0,\n",
    "                         sample=6e-5, \n",
    "                         alpha=0.03, \n",
    "                         min_alpha=0.0007, \n",
    "                         negative=20,\n",
    "                         workers=cores-1)\n",
    "    w2v_model.build_vocab(rooms)\n",
    "    return w2v_model"
   ]
  },
  {
   "cell_type": "code",
   "execution_count": 128,
   "id": "f38ef16b",
   "metadata": {},
   "outputs": [],
   "source": [
    "#the mothods creating embeddigs for the whole dataset\n",
    "def create_embeddings():\n",
    "    rooms_files, rooms = load_data()\n",
    "    w2v_model = get_w2v_model(rooms)\n",
    "    \n",
    "    embeddings_of_sentences = []\n",
    "    for room in rooms:\n",
    "        sentence_embedding = get_embedding(room,w2v_model)\n",
    "        embeddings_of_sentences.append(sentence_embedding)\n",
    "    return embeddings_of_sentences, rooms_files"
   ]
  },
  {
   "cell_type": "code",
   "execution_count": 123,
   "id": "014fb77e",
   "metadata": {},
   "outputs": [],
   "source": [
    "# Function to calculate cosine similarity between two vectors\n",
    "def calculate_cosine_similarity(vec1, vec2):\n",
    "    return np.dot(vec1, vec2) / (np.linalg.norm(vec1) * np.linalg.norm(vec2))"
   ]
  },
  {
   "cell_type": "code",
   "execution_count": 131,
   "id": "48f5d327",
   "metadata": {},
   "outputs": [],
   "source": [
    "embeddings_of_sentences, rooms_files = create_embeddings()"
   ]
  },
  {
   "cell_type": "code",
   "execution_count": 132,
   "id": "5143a5cb",
   "metadata": {},
   "outputs": [
    {
     "data": {
      "text/plain": [
       "array([-0.00551843,  0.00092605,  0.0005839 ,  0.0045524 , -0.00184452,\n",
       "       -0.00077599,  0.0023034 ,  0.00353621,  0.0016551 , -0.00301923,\n",
       "        0.00549416,  0.00022849, -0.00219101,  0.00144941, -0.00133725,\n",
       "       -0.00429091,  0.00084675,  0.00133931, -0.00413802,  0.0014893 ,\n",
       "        0.00629102, -0.00145136,  0.0067666 ,  0.00435929,  0.00091054,\n",
       "       -0.00142936,  0.00484697,  0.00128054,  0.00051112,  0.00114805,\n",
       "       -0.00240997,  0.0001031 ,  0.00301417, -0.0026215 ,  0.00298622,\n",
       "        0.00309654,  0.00527194, -0.00150414, -0.00155672,  0.0006128 ,\n",
       "       -0.00150922,  0.00334447,  0.00082867, -0.00420284,  0.00103433,\n",
       "        0.00053205, -0.00032278,  0.00021761,  0.00323315,  0.00125839,\n",
       "        0.0006195 ,  0.00247863, -0.00229962, -0.00443576, -0.00028388,\n",
       "       -0.00051117,  0.0012467 ,  0.00286251, -0.00130612,  0.00256649,\n",
       "       -0.00067403,  0.00155715,  0.00203206, -0.00367074, -0.0004807 ,\n",
       "       -0.00396573,  0.00026535,  0.00631947, -0.00365675,  0.00056857,\n",
       "        0.0050905 , -0.0002531 , -0.00132995,  0.00156625, -0.0016304 ,\n",
       "       -0.00070998,  0.0025397 ,  0.00414081, -0.00097356, -0.00099311,\n",
       "       -0.00295477,  0.00095626,  0.00597289,  0.00078579, -0.00293809,\n",
       "       -0.00138367,  0.00719017, -0.00195324, -0.00062476, -0.00020839,\n",
       "       -0.0032912 , -0.00303884, -0.00178635,  0.00038684,  0.00324676,\n",
       "        0.00343629, -0.00198535, -0.0078874 , -0.00224691,  0.00286231],\n",
       "      dtype=float32)"
      ]
     },
     "execution_count": 132,
     "metadata": {},
     "output_type": "execute_result"
    }
   ],
   "source": [
    "embeddings_of_sentences[2]"
   ]
  },
  {
   "cell_type": "code",
   "execution_count": 125,
   "id": "a0519b6b",
   "metadata": {},
   "outputs": [
    {
     "data": {
      "text/plain": [
       "'bed_3.jpg'"
      ]
     },
     "execution_count": 125,
     "metadata": {},
     "output_type": "execute_result"
    }
   ],
   "source": [
    "rooms_files[2]"
   ]
  },
  {
   "cell_type": "code",
   "execution_count": 97,
   "id": "6db59e6e",
   "metadata": {},
   "outputs": [],
   "source": [
    "def get_prompt_embedding(prompt):\n",
    "    text = prompt.lower()\n",
    "    \n",
    "    # tokenization\n",
    "    tokens = word_tokenize(text)\n",
    "    \n",
    "    # delete stop_words\n",
    "    stop_words = set(stopwords.words(\"english\"))\n",
    "    tokens = [word for word in tokens if word not in stop_words and word not in string.punctuation]\n",
    "    \n",
    "    prompt_embedding = get_embedding(tokens,w2v_model)\n",
    "    \n",
    "    return prompt_embedding"
   ]
  },
  {
   "cell_type": "code",
   "execution_count": 77,
   "id": "b9b1493c",
   "metadata": {},
   "outputs": [],
   "source": [
    "prompt = \"I want to have bedroom with bedroom chair and mirrow\""
   ]
  },
  {
   "cell_type": "code",
   "execution_count": 91,
   "id": "82718ea8",
   "metadata": {},
   "outputs": [],
   "source": [
    "prompt_embedding = get_prompt_embedding(prompt)\n",
    "    "
   ]
  },
  {
   "cell_type": "code",
   "execution_count": 138,
   "id": "d161bad4",
   "metadata": {},
   "outputs": [],
   "source": [
    "similiarity = calculate_cosine_similarity(embeddings_of_sentences, prompt_embedding)"
   ]
  },
  {
   "cell_type": "code",
   "execution_count": 141,
   "id": "37967dc9",
   "metadata": {},
   "outputs": [
    {
     "data": {
      "text/plain": [
       "'bed_75.jpg'"
      ]
     },
     "execution_count": 141,
     "metadata": {},
     "output_type": "execute_result"
    }
   ],
   "source": [
    "rooms_files[np.argmax(similiarity)]"
   ]
  },
  {
   "cell_type": "code",
   "execution_count": null,
   "id": "2af17c1b",
   "metadata": {},
   "outputs": [],
   "source": []
  },
  {
   "cell_type": "code",
   "execution_count": 11,
   "id": "a0b9f424",
   "metadata": {},
   "outputs": [],
   "source": []
  },
  {
   "cell_type": "code",
   "execution_count": null,
   "id": "47d0132b",
   "metadata": {},
   "outputs": [],
   "source": []
  }
 ],
 "metadata": {
  "kernelspec": {
   "display_name": "Python 3",
   "language": "python",
   "name": "python3"
  },
  "language_info": {
   "codemirror_mode": {
    "name": "ipython",
    "version": 3
   },
   "file_extension": ".py",
   "mimetype": "text/x-python",
   "name": "python",
   "nbconvert_exporter": "python",
   "pygments_lexer": "ipython3",
   "version": "3.8.8"
  }
 },
 "nbformat": 4,
 "nbformat_minor": 5
}
